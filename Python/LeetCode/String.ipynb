{
 "cells": [
  {
   "cell_type": "heading",
   "metadata": {
    "collapsed": false
   },
   "level": 1,
   "source": [
    "521.最长特殊序列I"
   ]
  },
  {
   "cell_type": "code",
   "execution_count": 7,
   "metadata": {
    "collapsed": false
   },
   "outputs": [
    {
     "name": "stdout",
     "output_type": "stream",
     "text": [
      "3\n"
     ]
    }
   ],
   "source": [
    "class Solution(object):\n",
    "    def findLUSlength(self, a, b):\n",
    "        \"\"\"\n",
    "        :type a: str\n",
    "        :type b: str\n",
    "        :rtype: int\n",
    "        \"\"\"\n",
    "        if len(a) != len(b):\n",
    "            return max(len(a), len(b))\n",
    "        elif len(a) == len(b) and a == b:\n",
    "            return -1\n",
    "        else:\n",
    "            return len(a)\n",
    "\n",
    "\n",
    "s = Solution()\n",
    "b = s.findLUSlength(\"aba\", \"cdc\")\n",
    "print(b)"
   ]
  },
  {
   "cell_type": "heading",
   "metadata": {},
   "level": 1,
   "source": [
    "824.山羊拉丁文"
   ]
  },
  {
   "cell_type": "code",
   "execution_count": 8,
   "metadata": {
    "collapsed": false
   },
   "outputs": [
    {
     "name": "stdout",
     "output_type": "stream",
     "text": [
      "Imaa peaksmaaa oatGmaaaa atinLmaaaaa\n"
     ]
    }
   ],
   "source": [
    "s = \"I speak Goat Latin\"\n",
    "pt = ['a', 'e', 'i', 'o', 'u']\n",
    "num = 0\n",
    "lists = s.split(' ')\n",
    "res = []\n",
    "for i in lists:\n",
    "    if i[0].lower() in pt:\n",
    "        res.append(i + 'ma' + (num + 1) * 'a')\n",
    "        num += 1\n",
    "    else:\n",
    "        res.append(i[1:] + i[0] + 'ma' + (num + 1) * 'a')\n",
    "        num += 1\n",
    "print(' '.join(res))\n",
    "# 28ms 75.76%"
   ]
  },
  {
   "cell_type": "code",
   "execution_count": 28,
   "metadata": {
    "collapsed": false
   },
   "outputs": [
    {
     "name": "stdout",
     "output_type": "stream",
     "text": [
      "{'a': 1, 'b': 0}\n"
     ]
    }
   ],
   "source": [
    ""
   ]
  },
  {
   "cell_type": "code",
   "execution_count": null,
   "metadata": {},
   "outputs": [],
   "source": []
  }
 ],
 "metadata": {},
 "nbformat": 4,
 "nbformat_minor": 0
}
