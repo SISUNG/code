{
 "cells": [
  {
   "cell_type": "markdown",
   "metadata": {},
   "source": [
    "303. 区域和检索 - 数组不可变\n",
    "给定一个整数数组  nums，求出数组从索引 i 到 j  (i ≤ j) 范围内元素的总和，包含 i,  j 两点。\n",
    "示例：\n",
    "给定 nums = [-2, 0, 3, -5, 2, -1]，求和函数为 sumRange()\n",
    "sumRange(0, 2) -> 1\n",
    "sumRange(2, 5) -> -1\n",
    "sumRange(0, 5) -> -3"
   ]
  },
  {
   "cell_type": "code",
   "execution_count": 2,
   "metadata": {
    "collapsed": false
   },
   "outputs": [
    {
     "name": "stdout",
     "output_type": "stream",
     "text": [
      "1\n"
     ]
    }
   ],
   "source": [
    "class NumArray:\n",
    "    def __init__(self, nums):\n",
    "        s, n = 0, len(nums)\n",
    "        self.dp = [0] * (n + 1)\n",
    "        for i in range(n):\n",
    "            s += nums[i]\n",
    "            self.dp[i + 1] = s\n",
    "\n",
    "    def sumRange(self, i, j):\n",
    "        return self.dp[j + 1] - self.dp[i]\n",
    "\n",
    "\n",
    "nums = [-2, 0, 3, -5, 2, -1]\n",
    "obj = NumArray(nums)\n",
    "res = obj.sumRange(0, 2)\n",
    "print(res)\n",
    "# 80ms 71.15%"
   ]
  },
  {
   "cell_type": "markdown",
   "metadata": {},
   "source": [
    "53.最大自序和\n",
    "给定一个整数数组 nums ，找到一个具有最大和的连续子数组（子数组最少包含一个元素），返回其最大和。\n",
    "示例:\n",
    "输入: [-2,1,-3,4,-1,2,1,-5,4],\n",
    "输出: 6\n",
    "解释: 连续子数组 [4,-1,2,1] 的和最大，为 6。\n",
    "进阶:如果你已经实现复杂度为 O(n) 的解法，尝试使用更为精妙的分治法求解。"
   ]
  },
  {
   "cell_type": "code",
   "execution_count": 4,
   "metadata": {
    "collapsed": false
   },
   "outputs": [
    {
     "name": "stdout",
     "output_type": "stream",
     "text": [
      "6\n[-2, 1, -2, 4, 3, 5, 6, 1, 5]\n"
     ]
    }
   ],
   "source": [
    "nums = [-2, 1, -3, 4, -1, 2, 1, -5, 4]\n",
    "for i in range(1, len(nums)):\n",
    "    if nums[i - 1] > 0:\n",
    "        nums[i] += nums[i - 1]\n",
    "print(max(nums))\n",
    "print(nums)\n",
    "# 64ms 53.15%"
   ]
  },
  {
   "cell_type": "markdown",
   "metadata": {},
   "source": [
    "413.等差数列划分"
   ]
  },
  {
   "cell_type": "code",
   "execution_count": 5,
   "metadata": {
    "collapsed": false
   },
   "outputs": [
    {
     "name": "stdout",
     "output_type": "stream",
     "text": [
      "3\n"
     ]
    }
   ],
   "source": [
    "A = [1, 2, 3, 4]\n",
    "n = len(A)\n",
    "dp = [0] * n\n",
    "for i in range(2, n):\n",
    "    if A[i] - A[i - 1] == A[i - 1] - A[i - 2]:\n",
    "        dp[i] = dp[i - 1] + 1\n",
    "print(sum(dp))\n",
    "# 80ms 2.29%"
   ]
  },
  {
   "cell_type": "markdown",
   "metadata": {},
   "source": [
    "62.不同路径\n",
    "一个机器人位于一个 m x n 网格的左上角 （起始点在下图中标记为“Start” ）。\n",
    "\n",
    "机器人每次只能向下或者向右移动一步。机器人试图达到网格的右下角（在下图中标记为“Finish”）。\n",
    "\n",
    "问总共有多少条不同的路径？\n",
    "说明：m 和 n 的值均不超过 100。\n",
    "\n",
    "示例 1:\n",
    "\n",
    "输入: m = 3, n = 2\n",
    "输出: 3\n",
    "解释:\n",
    "从左上角开始，总共有 3 条路径可以到达右下角。\n",
    "1. 向右 -> 向右 -> 向下\n",
    "2. 向右 -> 向下 -> 向右\n",
    "3. 向下 -> 向右 -> 向右\n",
    "示例 2:\n",
    "\n",
    "输入: m = 7, n = 3\n",
    "输出: 28"
   ]
  },
  {
   "cell_type": "code",
   "execution_count": null,
   "metadata": {},
   "outputs": [],
   "source": [
    "m = 7\n",
    "n = 3\n",
    "\n"
   ]
  },
  {
   "cell_type": "markdown",
   "metadata": {},
   "source": [
    "647.回文子串\n",
    "给定一个字符串，你的任务是计算这个字符串中有多少个回文子串。\n",
    "具有不同开始位置或结束位置的子串，即使是由相同的字符组成，也会被计为是不同的子串。\n",
    "示例 1:\n",
    "输入: \"abc\"\n",
    "输出: 3\n",
    "解释: 三个回文子串: \"a\", \"b\", \"c\".\n",
    "示例 2:\n",
    "输入: \"aaa\"\n",
    "输出: 6\n",
    "说明: 6个回文子串: \"a\", \"a\", \"a\", \"aa\", \"aa\", \"aaa\"."
   ]
  },
  {
   "cell_type": "code",
   "execution_count": null,
   "metadata": {},
   "outputs": [],
   "source": [
    "s = \"aaa\"\n"
   ]
  },
  {
   "cell_type": "code",
   "execution_count": null,
   "metadata": {},
   "outputs": [],
   "source": []
  },
  {
   "cell_type": "markdown",
   "metadata": {},
   "source": [
    "279.完全平方数\n",
    "给定正整数 n，找到若干个完全平方数（比如 1, 4, 9, 16, ...）使得它们的和等于 n。你需要让组成和的完全平方数的个数最少。\n",
    "示例 1:\n",
    "输入: n = 12\n",
    "输出: 3 \n",
    "解释: 12 = 4 + 4 + 4.\n",
    "示例 2:\n",
    "输入: n = 13\n",
    "输出: 2\n",
    "解释: 13 = 4 + 9."
   ]
  },
  {
   "cell_type": "code",
   "execution_count": null,
   "metadata": {},
   "outputs": [],
   "source": []
  },
  {
   "cell_type": "markdown",
   "metadata": {},
   "source": [
    "516.最长回文子序列\n",
    "给定一个字符串s，找到其中最长的回文子序列。可以假设s的最大长度为1000。\n",
    "示例 1:\n",
    "输入:\n",
    "\"bbbab\"\n",
    "输出:4\n",
    "一个可能的最长回文子序列为 \"bbbb\"。\n",
    "示例 2:\n",
    "输入:\n",
    "\"cbbd\"\n",
    "输出:2\n",
    "一个可能的最长回文子序列为 \"bb\"。"
   ]
  },
  {
   "cell_type": "code",
   "execution_count": null,
   "metadata": {},
   "outputs": [],
   "source": []
  },
  {
   "cell_type": "code",
   "execution_count": null,
   "metadata": {},
   "outputs": [],
   "source": []
  },
  {
   "cell_type": "code",
   "execution_count": null,
   "metadata": {},
   "outputs": [],
   "source": []
  },
  {
   "cell_type": "code",
   "execution_count": null,
   "metadata": {},
   "outputs": [],
   "source": []
  },
  {
   "cell_type": "code",
   "execution_count": null,
   "metadata": {},
   "outputs": [],
   "source": []
  },
  {
   "cell_type": "code",
   "execution_count": null,
   "metadata": {},
   "outputs": [],
   "source": []
  },
  {
   "cell_type": "code",
   "execution_count": null,
   "metadata": {},
   "outputs": [],
   "source": []
  },
  {
   "cell_type": "code",
   "execution_count": null,
   "metadata": {},
   "outputs": [],
   "source": []
  },
  {
   "cell_type": "code",
   "execution_count": null,
   "metadata": {},
   "outputs": [],
   "source": []
  }
 ],
 "metadata": {},
 "nbformat": 4,
 "nbformat_minor": 0
}
