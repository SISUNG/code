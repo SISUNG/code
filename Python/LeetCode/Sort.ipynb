{
 "cells": [
  {
   "cell_type": "heading",
   "metadata": {
    "collapsed": true
   },
   "level": 1,
   "source": [
    "选择排序"
   ]
  },
  {
   "cell_type": "code",
   "execution_count": 16,
   "metadata": {},
   "outputs": [],
   "source": [
    "lists = [3, 4, 2, 5, 6, 1, 7]\n",
    "\n",
    "for i in range(0, 6):\n",
    "    min_idx = i\n",
    "    for j in range(i + 1, 7):\n",
    "        if lists[j] < lists[min_idx]:\n",
    "            min_idx = j\n",
    "    # 经由第三方进行两数交换\n",
    "    mid = lists[i]\n",
    "    lists[i] = lists[min_idx]\n",
    "    lists[min_idx] = mid\n",
    "\n",
    "print(lists)"
   ]
  },
  {
   "cell_type": "code",
   "execution_count": 18,
   "metadata": {},
   "outputs": [
    {
     "name": "stdout",
     "output_type": "stream",
     "text": [
      "2\n"
     ]
    }
   ],
   "source": [
    "a = 8\n",
    "print(a >> 2)\n"
   ]
  },
  {
   "cell_type": "code",
   "execution_count": null,
   "metadata": {},
   "outputs": [],
   "source": []
  }
 ],
 "metadata": {},
 "nbformat": 4,
 "nbformat_minor": 0
}
