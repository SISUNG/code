{
 "cells": [
  {
   "cell_type": "heading",
   "metadata": {},
   "level": 1,
   "source": [
    "977. 有序数组的平方"
   ]
  },
  {
   "cell_type": "code",
   "execution_count": 4,
   "metadata": {
    "collapsed": false
   },
   "outputs": [
    {
     "name": "stdout",
     "output_type": "stream",
     "text": [
      "[4, 9, 9, 49, 121]\n"
     ]
    }
   ],
   "source": [
    "A = [-7, -3, 2, 3, 11]\n",
    "res = []\n",
    "for i in A:\n",
    "    p = pow(i, 2)\n",
    "    res.append(p)\n",
    "\n",
    "print(sorted(res))\n",
    "# 208ms 32.29%"
   ]
  },
  {
   "cell_type": "code",
   "execution_count": 1,
   "metadata": {
    "collapsed": false
   },
   "outputs": [
    {
     "name": "stdout",
     "output_type": "stream",
     "text": [
      "[4, 9, 9, 49, 121]\n"
     ]
    }
   ],
   "source": [
    "A = [-7, -3, 2, 3, 11]\n",
    "print(sorted([x * x for x in A]))\n",
    "# 204ms 43.75%"
   ]
  },
  {
   "cell_type": "heading",
   "metadata": {},
   "level": 1,
   "source": [
    "950.按递增顺序显式卡牌"
   ]
  },
  {
   "cell_type": "code",
   "execution_count": null,
   "metadata": {},
   "outputs": [],
   "source": []
  },
  {
   "cell_type": "heading",
   "metadata": {},
   "level": 1,
   "source": [
    "985.查询后的偶数和"
   ]
  },
  {
   "cell_type": "code",
   "execution_count": 3,
   "metadata": {
    "collapsed": false
   },
   "outputs": [
    {
     "name": "stdout",
     "output_type": "stream",
     "text": [
      "[8, 6, 2, 4]\n"
     ]
    }
   ],
   "source": [
    "A = [1, 2, 3, 4]\n",
    "queries = [[1, 0], [-3, 1], [-4, 0], [2, 3]]\n",
    "res = []\n",
    "for i in queries:\n",
    "    val = i[0]\n",
    "    idx = i[1]\n",
    "    A[idx] += val\n",
    "    s = 0\n",
    "    for j in A:\n",
    "        if j % 2 == 0:\n",
    "            s += j\n",
    "    res.append(s)\n",
    "print(res)"
   ]
  },
  {
   "cell_type": "markdown",
   "metadata": {},
   "source": [
    "78.子集\n",
    "给定一组不含重复元素的整数数组 nums，返回该数组所有可能的子集（幂集）。说明：解集不能包含重复的子集。"
   ]
  },
  {
   "cell_type": "code",
   "execution_count": null,
   "metadata": {},
   "outputs": [],
   "source": [
    "nums = [1, 2, 3]\n",
    "res = []\n"
   ]
  },
  {
   "cell_type": "heading",
   "metadata": {},
   "level": 1,
   "source": [
    "485.最大连续1的个数"
   ]
  },
  {
   "cell_type": "markdown",
   "metadata": {},
   "source": [
    "给定一个二进制数组， 计算其中最大连续1的个数。\n",
    "\n",
    "示例 1:\n",
    "\n",
    "输入: [1,1,0,1,1,1]\n",
    "输出: 3\n",
    "解释: 开头的两位和最后的三位都是连续1，所以最大连续1的个数是 3.\n",
    "注意：\n",
    "\n",
    "输入的数组只包含 0 和1。\n",
    "输入数组的长度是正整数，且不超过 10,000。"
   ]
  },
  {
   "cell_type": "code",
   "execution_count": 17,
   "metadata": {
    "collapsed": false
   },
   "outputs": [
    {
     "name": "stdout",
     "output_type": "stream",
     "text": [
      "1\n"
     ]
    }
   ],
   "source": [
    "nums = [1]\n",
    "cnt = 0\n",
    "res = []\n",
    "for i in nums:\n",
    "    if i == 1:\n",
    "        cnt += 1\n",
    "    else:\n",
    "        if cnt != 0:\n",
    "            res.append(cnt)\n",
    "        cnt = 0\n",
    "if len(res) == 0:\n",
    "    print(cnt)\n",
    "else:\n",
    "    print(max(cnt, max(res)))\n",
    "# 132ms 33.05%"
   ]
  },
  {
   "cell_type": "code",
   "execution_count": 21,
   "metadata": {
    "collapsed": false
   },
   "outputs": [
    {
     "name": "stdout",
     "output_type": "stream",
     "text": [
      "3\n"
     ]
    }
   ],
   "source": [
    "nums = [1, 1, 0, 1, 1, 1]\n",
    "cnt = 0\n",
    "max_cnt = 0\n",
    "for i in nums:\n",
    "    if i == 1:\n",
    "        cnt += 1\n",
    "    else:\n",
    "        if cnt > max_cnt:\n",
    "            max_cnt = cnt\n",
    "        cnt = 0\n",
    "print(max(cnt, max_cnt))\n",
    "# 76ms 99.63%"
   ]
  },
  {
   "cell_type": "heading",
   "metadata": {},
   "level": 1,
   "source": [
    "268.缺失数字"
   ]
  },
  {
   "cell_type": "markdown",
   "metadata": {},
   "source": [
    "\n",
    "给定一个包含 0, 1, 2, ..., n 中 n 个数的序列，找出 0 .. n 中没有出现在序列中的那个数。\n",
    "示例 1:\n",
    "输入: [3,0,1]\n",
    "输出: 2\n",
    "示例 2:\n",
    "输入: [9,6,4,2,3,5,7,0,1]\n",
    "输出: 8\n",
    "说明:你的算法应具有线性时间复杂度。你能否仅使用额外常数空间来实现?"
   ]
  },
  {
   "cell_type": "code",
   "execution_count": 22,
   "metadata": {
    "collapsed": false
   },
   "outputs": [
    {
     "name": "stdout",
     "output_type": "stream",
     "text": [
      "8\n"
     ]
    }
   ],
   "source": [
    "nums = [9, 6, 4, 2, 3, 5, 7, 0, 1]\n",
    "n = len(nums)\n",
    "print(int(n*(n+1)/2 - sum(nums)))\n",
    "# 52ms 100.0%"
   ]
  },
  {
   "cell_type": "heading",
   "metadata": {},
   "level": 1,
   "source": [
    "217.存在重复元素"
   ]
  },
  {
   "cell_type": "markdown",
   "metadata": {},
   "source": [
    "给定一个整数数组，判断是否存在重复元素。\n",
    "\n",
    "如果任何值在数组中出现至少两次，函数返回\n",
    "true。如果数组中每个元素都不相同，则返回\n",
    "false。\n",
    "\n",
    "示例\n",
    "1:\n",
    "\n",
    "输入: [1, 2, 3, 1]\n",
    "输出: true\n",
    "示例\n",
    "2:\n",
    "\n",
    "输入: [1, 2, 3, 4]\n",
    "输出: false\n",
    "示例\n",
    "3:\n",
    "\n",
    "输入: [1, 1, 1, 3, 3, 4, 3, 2, 4, 2]\n",
    "输出: true\n"
   ]
  },
  {
   "cell_type": "code",
   "execution_count": 23,
   "metadata": {
    "collapsed": false
   },
   "outputs": [
    {
     "name": "stdout",
     "output_type": "stream",
     "text": [
      "True\n"
     ]
    }
   ],
   "source": [
    "nums = [1, 1, 1, 3, 3, 4, 3, 2, 4, 2]\n",
    "if len(nums) != len(set(nums)):\n",
    "    print(True)\n",
    "else:\n",
    "    print(False)\n",
    "# 56ms 84.51%"
   ]
  },
  {
   "cell_type": "code",
   "execution_count": 24,
   "metadata": {
    "collapsed": false
   },
   "outputs": [
    {
     "name": "stdout",
     "output_type": "stream",
     "text": [
      "True\n"
     ]
    }
   ],
   "source": [
    "nums = [1, 1, 1, 3, 3, 4, 3, 2, 4, 2]       \n",
    "a = len(nums)\n",
    "b = len(set(nums))\n",
    "print(True if b < a else False)\n",
    "# 88ms 8.04%"
   ]
  },
  {
   "cell_type": "heading",
   "metadata": {},
   "level": 1,
   "source": [
    "896.单调数列"
   ]
  },
  {
   "cell_type": "markdown",
   "metadata": {},
   "source": [
    "如果数组是单调递增或单调递减的，那么它是单调的。\n",
    "\n",
    "如果对于所有 i <= j，A[i] <= A[j]，那么数组 A 是单调递增的。 如果对于所有 i <= j，A[i]> = A[j]，那么数组 A 是单调递减的。\n",
    "\n",
    "当给定的数组 A 是单调数组时返回 true，否则返回 false。\n",
    "\n",
    " \n",
    "\n",
    "示例 1：\n",
    "\n",
    "输入：[1,2,2,3]\n",
    "输出：true\n",
    "示例 2：\n",
    "\n",
    "输入：[6,5,4,4]\n",
    "输出：true\n",
    "示例 3：\n",
    "\n",
    "输入：[1,3,2]\n",
    "输出：false\n",
    "示例 4：\n",
    "\n",
    "输入：[1,2,4,5]\n",
    "输出：true\n",
    "示例 5：\n",
    "\n",
    "输入：[1,1,1]\n",
    "输出：true"
   ]
  },
  {
   "cell_type": "code",
   "execution_count": 25,
   "metadata": {
    "collapsed": false
   },
   "outputs": [
    {
     "name": "stdout",
     "output_type": "stream",
     "text": [
      "True\n"
     ]
    }
   ],
   "source": [
    "A = [1, 2, 2, 3]\n",
    "print(A == sorted(A) or A == sorted(A)[::-1])\n",
    "# 156ms 61.96%"
   ]
  },
  {
   "cell_type": "heading",
   "metadata": {},
   "level": 1,
   "source": [
    "287.寻找重复数"
   ]
  },
  {
   "cell_type": "markdown",
   "metadata": {},
   "source": [
    "给定一个包含 n + 1 个整数的数组 nums，其数字都在 1 到 n 之间（包括 1 和 n），可知至少存在一个重复的整数。假设只有一个重复的整数，找出这个重复的数。\n",
    "\n",
    "示例 1:\n",
    "\n",
    "输入: [1,3,4,2,2]\n",
    "输出: 2\n",
    "示例 2:\n",
    "\n",
    "输入: [3,1,3,4,2]\n",
    "输出: 3\n",
    "说明：\n",
    "\n",
    "不能更改原数组（假设数组是只读的）。\n",
    "只能使用额外的 O(1) 的空间。\n",
    "时间复杂度小于 O(n2) 。\n",
    "数组中只有一个重复的数字，但它可能不止重复出现一次。"
   ]
  },
  {
   "cell_type": "code",
   "execution_count": 26,
   "metadata": {
    "collapsed": false
   },
   "outputs": [
    {
     "name": "stdout",
     "output_type": "stream",
     "text": [
      "3\n"
     ]
    }
   ],
   "source": [
    "nums = [3, 1, 3, 4, 2]\n",
    "for i in range(0,len(nums)):\n",
    "    flag = nums[i]\n",
    "    for j in range(i+1, len(nums)):\n",
    "        if flag == nums[j]:\n",
    "            print(flag)\n",
    "# 又他妈的超时了"
   ]
  },
  {
   "cell_type": "code",
   "execution_count": 27,
   "metadata": {
    "collapsed": false
   },
   "outputs": [
    {
     "name": "stdout",
     "output_type": "stream",
     "text": [
      "3\n"
     ]
    }
   ],
   "source": [
    "nums = [3, 1, 3, 4, 2]\n",
    "print((sum(nums) - sum(set(nums))) // (len(nums) - len(set(nums))))\n",
    "# 48ms 99.09%"
   ]
  },
  {
   "cell_type": "heading",
   "metadata": {},
   "level": 1,
   "source": [
    "728.自除数"
   ]
  },
  {
   "cell_type": "markdown",
   "metadata": {},
   "source": [
    "自除数 是指可以被它包含的每一位数除尽的数。\n",
    "例如，128 是一个自除数，因为 128 % 1 == 0，128 % 2 == 0，128 % 8 == 0。还有，自除数不允许包含 0 。\n",
    "给定上边界和下边界数字，输出一个列表，列表的元素是边界（含边界）内所有的自除数。\n",
    "示例 1：\n",
    "输入： \n",
    "上边界left = 1, 下边界right = 22\n",
    "输出： [1, 2, 3, 4, 5, 6, 7, 8, 9, 11, 12, 15, 22]"
   ]
  },
  {
   "cell_type": "code",
   "execution_count": 37,
   "metadata": {
    "collapsed": false
   },
   "outputs": [],
   "source": [
    "left = 1\n",
    "right = 22\n",
    "res = []\n",
    "for i in range(left, right+1):\n",
    "    if '0' in str(i):\n",
    "        continue\n",
    "    for num in str(i):\n",
    "        if i % int(num) != 0:\n",
    "            break\n",
    "    else:\n",
    "        res.append(i)\n",
    "print(res)\n",
    "# 108ms 33.86%"
   ]
  },
  {
   "cell_type": "code",
   "execution_count": 39,
   "metadata": {
    "collapsed": false
   },
   "outputs": [
    {
     "name": "stdout",
     "output_type": "stream",
     "text": [
      "[1, 2, 3, 4, 5, 6, 7, 8, 9, 11, 12, 15, 22]\n"
     ]
    }
   ],
   "source": [
    "left = 1\n",
    "right = 22\n",
    "ans = []\n",
    "for i in range(left, right + 1):\n",
    "    flag = True\n",
    "    num = i\n",
    "    while num > 0:\n",
    "        tmp = num % 10\n",
    "        if tmp == 0:\n",
    "            flag = False\n",
    "            break\n",
    "        else:\n",
    "            if i % tmp != 0:\n",
    "                flag = False\n",
    "                break\n",
    "        num = num // 10\n",
    "    if flag:\n",
    "        ans.append(i)\n",
    "print(ans)\n",
    "# 72ms 80.48%"
   ]
  },
  {
   "cell_type": "heading",
   "metadata": {},
   "level": 1,
   "source": [
    "35.搜索插入位置"
   ]
  },
  {
   "cell_type": "markdown",
   "metadata": {},
   "source": [
    "给定一个排序数组和一个目标值，在数组中找到目标值，并返回其索引。如果目标值不存在于数组中，返回它将会被按顺序插入的位置。\n",
    "\n",
    "你可以假设数组中无重复元素。\n",
    "\n",
    "示例 1:\n",
    "\n",
    "输入: [1,3,5,6], 5\n",
    "输出: 2\n",
    "示例 2:\n",
    "\n",
    "输入: [1,3,5,6], 2\n",
    "输出: 1\n",
    "示例 3:\n",
    "\n",
    "输入: [1,3,5,6], 7\n",
    "输出: 4\n",
    "示例 4:\n",
    "\n",
    "输入: [1,3,5,6], 0\n",
    "输出: 0"
   ]
  },
  {
   "cell_type": "code",
   "execution_count": 46,
   "metadata": {
    "collapsed": false
   },
   "outputs": [
    {
     "name": "stdout",
     "output_type": "stream",
     "text": [
      "0\n"
     ]
    }
   ],
   "source": [
    "nums = [1, 3, 5, 6]\n",
    "target = 0\n",
    "if target in nums:\n",
    "    print(nums.index(target))\n",
    "else:\n",
    "    idx = 0\n",
    "    for i in nums:\n",
    "        if target > i:\n",
    "            idx = nums.index(i)+1\n",
    "    print(idx)\n",
    "# 488ms 远远超时"
   ]
  },
  {
   "cell_type": "heading",
   "metadata": {},
   "level": 1,
   "source": [
    "414.第三大的数"
   ]
  },
  {
   "cell_type": "code",
   "execution_count": 47,
   "metadata": {
    "collapsed": false
   },
   "outputs": [
    {
     "name": "stdout",
     "output_type": "stream",
     "text": [
      "1\n"
     ]
    }
   ],
   "source": [
    "nums = [2, 2, 3, 1]\n",
    "a = sorted((list(set(nums))))\n",
    "b = a[-1::-1]\n",
    "if len(b) < 3:\n",
    "    print(b[0])\n",
    "else:\n",
    "    print(b[2])\n",
    "# 60ms 18.23%"
   ]
  },
  {
   "cell_type": "heading",
   "metadata": {},
   "level": 1,
   "source": [
    "258.各位相加"
   ]
  },
  {
   "cell_type": "markdown",
   "metadata": {},
   "source": [
    "给定一个非负整数 num，反复将各个位上的数字相加，直到结果为一位数。\n",
    "示例:\n",
    "输入: 38\n",
    "输出: 2 \n",
    "解释: 各位相加的过程为：3 + 8 = 11, 1 + 1 = 2。 由于 2 是一位数，所以返回 2。\n",
    "进阶:你可以不使用循环或者递归，且在 O(1) 时间复杂度内解决这个问题吗？"
   ]
  },
  {
   "cell_type": "code",
   "execution_count": 48,
   "metadata": {
    "collapsed": false
   },
   "outputs": [
    {
     "name": "stdout",
     "output_type": "stream",
     "text": [
      "2\n"
     ]
    }
   ],
   "source": [
    "from functools import reduce\n",
    "\n",
    "num = 38\n",
    "while num > 9:\n",
    "    tmp = list(str(num))\n",
    "    num = reduce(lambda x, y: int(x) + int(y), tmp)\n",
    "print(num)\n",
    "# 132ms 1.69%"
   ]
  },
  {
   "cell_type": "code",
   "execution_count": null,
   "metadata": {},
   "outputs": [],
   "source": []
  },
  {
   "cell_type": "code",
   "execution_count": null,
   "metadata": {},
   "outputs": [],
   "source": []
  }
 ],
 "metadata": {},
 "nbformat": 4,
 "nbformat_minor": 0
}
