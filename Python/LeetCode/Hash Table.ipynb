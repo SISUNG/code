{
 "cells": [
  {
   "cell_type": "code",
   "execution_count": null,
   "metadata": {},
   "outputs": [],
   "source": []
  },
  {
   "cell_type": "code",
   "execution_count": null,
   "metadata": {},
   "outputs": [],
   "source": []
  },
  {
   "cell_type": "code",
   "execution_count": null,
   "metadata": {},
   "outputs": [],
   "source": []
  },
  {
   "cell_type": "code",
   "execution_count": null,
   "metadata": {},
   "outputs": [],
   "source": []
  },
  {
   "cell_type": "heading",
   "metadata": {},
   "level": 1,
   "source": [
    "500.键盘行"
   ]
  },
  {
   "cell_type": "code",
   "execution_count": null,
   "metadata": {},
   "outputs": [],
   "source": [
    "class Solution(object):\n",
    "    def findWords(self, words):\n",
    "        \"\"\"\n",
    "        :type words: List[str]\n",
    "        :rtype: List[str]\n",
    "        \"\"\"\n",
    "        ans = []\n",
    "        keys = ['qwertyuiop', 'asdfghjkl', 'zxcvbnm']\n",
    "        for key in keys:\n",
    "            for word in words:\n",
    "                line = set(word.lower())\n",
    "                if line.issubset(set(key)):\n",
    "                    ans.append(word)\n",
    "        return ans\n"
   ]
  },
  {
   "cell_type": "heading",
   "metadata": {},
   "level": 1,
   "source": [
    "94.二叉树的中序遍历"
   ]
  },
  {
   "cell_type": "markdown",
   "metadata": {
    "collapsed": false
   },
   "source": [
    "给定一个二叉树，返回它的中序 遍历。\n",
    "\n",
    "示例:\n",
    "\n",
    "输入: [1,null,2,3]\n",
    "   1\n",
    "    \\\n",
    "     2\n",
    "    /\n",
    "   3\n",
    "\n",
    "输出: [1,3,2]\n",
    "进阶: 递归算法很简单，你可以通过迭代算法完成吗？"
   ]
  },
  {
   "cell_type": "code",
   "execution_count": null,
   "metadata": {},
   "outputs": [],
   "source": [
    "# Definition for a binary tree node.\n",
    "# class TreeNode:\n",
    "#     def __init__(self, x):\n",
    "#         self.val = x\n",
    "#         self.left = None\n",
    "#         self.right = None\n",
    "\n",
    "class Solution:\n",
    "    def inorderTraversal(self, root):\n",
    "        \"\"\"\n",
    "        :type root: TreeNode\n",
    "        :rtype: List[int]\n",
    "        \"\"\"\n",
    "        \n",
    "        if root == None:\n",
    "            return []\n",
    "        res = []\n",
    "        res += self.inorderTraversal(root.left)\n",
    "        res.append(root.val)\n",
    "        res += self.inorderTraversal(root.right)\n",
    "        return res\n",
    "# 68ms 6.29%"
   ]
  },
  {
   "cell_type": "heading",
   "metadata": {},
   "level": 1,
   "source": [
    "389.找不同"
   ]
  },
  {
   "cell_type": "code",
   "execution_count": 2,
   "metadata": {
    "collapsed": false
   },
   "outputs": [
    {
     "name": "stdout",
     "output_type": "stream",
     "text": [
      "e\n"
     ]
    }
   ],
   "source": [
    "s, t = \"abcd\", \"abcde\"\n",
    "d = {}\n",
    "for i in s:\n",
    "    if i not in d.keys():\n",
    "        d[i] = 1\n",
    "    else:\n",
    "        d[i] = d.get(i) + 1\n",
    "for j in t:\n",
    "    if d.get(j) != t.count(j):\n",
    "        print(j)"
   ]
  },
  {
   "cell_type": "heading",
   "metadata": {},
   "level": 1,
   "source": [
    "463.岛屿的周长"
   ]
  },
  {
   "cell_type": "code",
   "execution_count": null,
   "metadata": {},
   "outputs": [],
   "source": [
    "class Solution(object):\n",
    "    def islandPerimeter(self, grid):\n",
    "        \"\"\"\n",
    "        :type grid: List[List[int]]\n",
    "        :rtype: int\n",
    "        \"\"\"\n",
    "        recount = 0\n",
    "        sums = 0\n",
    "        n = len(grid)\n",
    "        m = len(grid[0])\n",
    "        for i in range(len(grid)):\n",
    "            for j in range(len(grid[i])):\n",
    "                if grid[i][j] == 1:\n",
    "                    sums = sums + 1\n",
    "                    if i - 1 >= 0:\n",
    "                        if grid[i - 1][j] == 1: recount += 1\n",
    "                    if j - 1 >= 0:\n",
    "                        if grid[i][j - 1] == 1: recount += 1\n",
    "                    if i + 1 < n:\n",
    "                        if grid[i + 1][j] == 1: recount += 1\n",
    "                    if j + 1 < m:\n",
    "                        if grid[i][1 + j] == 1: recount += 1\n",
    "        print(sums, recount)"
   ]
  },
  {
   "cell_type": "heading",
   "metadata": {},
   "level": 1,
   "source": [
    "575.分糖果"
   ]
  },
  {
   "cell_type": "code",
   "execution_count": 6,
   "metadata": {
    "collapsed": false
   },
   "outputs": [
    {
     "name": "stdout",
     "output_type": "stream",
     "text": [
      "1\n"
     ]
    }
   ],
   "source": [
    "candies = [1, 1, 1, 1]\n",
    "s = set(candies)\n",
    "m = len(candies)\n",
    "n = len(s)\n",
    "if n >= m/2:\n",
    "    print(int(m/2))\n",
    "else:\n",
    "    print(int(n))\n",
    "# 120ms 43.56%"
   ]
  },
  {
   "cell_type": "heading",
   "metadata": {},
   "level": 1,
   "source": [
    "202 快乐数"
   ]
  },
  {
   "cell_type": "code",
   "execution_count": null,
   "metadata": {},
   "outputs": [],
   "source": [
    "n = 19\n",
    "# l = []\n",
    "for i in str(n):\n",
    "    print(i)\n",
    "    # l.append(int(i))\n",
    "print('a')\n",
    "# print(l)\n",
    "\n",
    "# ll = []\n",
    "# while len(str(n)) > 1:\n",
    "#     l = []\n",
    "#     for i in str(n):\n",
    "#         l.append(int(i))\n",
    "#     ll=l\n",
    "# \n",
    "# print(ll)"
   ]
  },
  {
   "cell_type": "heading",
   "metadata": {},
   "level": 1,
   "source": [
    "705.设计哈希集合"
   ]
  },
  {
   "cell_type": "markdown",
   "metadata": {},
   "source": [
    "不使用任何内建的哈希表库设计一个哈希集合\n",
    "\n",
    "具体地说，你的设计应该包含以下的功能\n",
    "\n",
    "add(value)：向哈希集合中插入一个值。\n",
    "contains(value) ：返回哈希集合中是否存在这个值。\n",
    "remove(value)：将给定值从哈希集合中删除。如果哈希集合中没有这个值，什么也不做。\n",
    "\n",
    "示例:\n",
    "\n",
    "MyHashSet hashSet = new MyHashSet();\n",
    "hashSet.add(1);         \n",
    "hashSet.add(2);         \n",
    "hashSet.contains(1);    // 返回 true\n",
    "hashSet.contains(3);    // 返回 false (未找到)\n",
    "hashSet.add(2);          \n",
    "hashSet.contains(2);    // 返回 true\n",
    "hashSet.remove(2);          \n",
    "hashSet.contains(2);    // 返回  false (已经被删除)\n",
    "\n",
    "注意：\n",
    "\n",
    "所有的值都在 [1, 1000000]的范围内。\n",
    "操作的总数目在[1, 10000]范围内。\n",
    "不要使用内建的哈希集合库。"
   ]
  },
  {
   "cell_type": "code",
   "execution_count": 3,
   "metadata": {
    "collapsed": false
   },
   "outputs": [
    {
     "name": "stdout",
     "output_type": "stream",
     "text": [
      "True\nFalse\n"
     ]
    }
   ],
   "source": [
    "class MyHashSet:\n",
    "    def __init__(self):\n",
    "        self.buckets = 1000\n",
    "        self.items_per_bucket = 1001\n",
    "        self.table = [[] for _ in range(self.buckets)]\n",
    "\n",
    "    def hash(self, key):\n",
    "        return key % self.buckets\n",
    "\n",
    "    def pos(self, key):\n",
    "        return key // self.buckets\n",
    "\n",
    "    def add(self, key):\n",
    "        hashkey = self.hash(key)\n",
    "        if not self.table[hashkey]:\n",
    "            self.table[hashkey] = [0] * self.items_per_bucket\n",
    "        self.table[hashkey][self.pos(key)] = 1\n",
    "\n",
    "    def remove(self, key):\n",
    "        hashkey = self.hash(key)\n",
    "        if self.table[hashkey]:\n",
    "            self.table[hashkey][self.pos(key)] = 0\n",
    "\n",
    "    def contains(self, key):\n",
    "        hashkey = self.hash(key)\n",
    "        return (self.table[hashkey] != []) and (self.table[hashkey][self.pos(key)] == 1)\n",
    "\n",
    "\n",
    "hashSet = MyHashSet()\n",
    "hashSet.add(1)\n",
    "hashSet.add(2)\n",
    "a = hashSet.contains(1)\n",
    "b = hashSet.contains(3)\n",
    "print(a)\n",
    "print(b)\n",
    "# 180ms 68.32%"
   ]
  },
  {
   "cell_type": "heading",
   "metadata": {},
   "level": 1,
   "source": [
    "706.设计哈希映射"
   ]
  },
  {
   "cell_type": "markdown",
   "metadata": {},
   "source": [
    "不使用任何内建的哈希表库设计一个哈希映射\n",
    "\n",
    "具体地说，你的设计应该包含以下的功能\n",
    "\n",
    "put(key, value)：向哈希映射中插入(键,值)的数值对。如果键对应的值已经存在，更新这个值。\n",
    "get(key)：返回给定的键所对应的值，如果映射中不包含这个键，返回-1。\n",
    "remove(key)：如果映射中存在这个键，删除这个数值对。\n",
    "\n",
    "示例：\n",
    "\n",
    "MyHashMap hashMap = new MyHashMap();\n",
    "hashMap.put(1, 1);          \n",
    "hashMap.put(2, 2);         \n",
    "hashMap.get(1);            // 返回 1\n",
    "hashMap.get(3);            // 返回 -1 (未找到)\n",
    "hashMap.put(2, 1);         // 更新已有的值\n",
    "hashMap.get(2);            // 返回 1 \n",
    "hashMap.remove(2);         // 删除键为2的数据\n",
    "hashMap.get(2);            // 返回 -1 (未找到) \n",
    "\n",
    "注意：\n",
    "\n",
    "所有的值都在 [1, 1000000]的范围内。\n",
    "操作的总数目在[1, 10000]范围内。\n",
    "不要使用内建的哈希库。"
   ]
  },
  {
   "cell_type": "code",
   "execution_count": 4,
   "metadata": {
    "collapsed": false
   },
   "outputs": [
    {
     "name": "stdout",
     "output_type": "stream",
     "text": [
      "1\n"
     ]
    }
   ],
   "source": [
    "class MyHashMap:\n",
    "    def __init__(self):\n",
    "        self.buckets = 1000\n",
    "        self.itemsPerBuckect = 1001\n",
    "        self.hashmap = [[] for _ in range(self.buckets)]\n",
    "\n",
    "    def hash(self, key):\n",
    "        return key % self.buckets\n",
    "\n",
    "    def pos(self, key):\n",
    "        return key // self.buckets\n",
    "\n",
    "    def put(self, key, value):\n",
    "        hashkey = self.hash(key)\n",
    "        if not self.hashmap[hashkey]:\n",
    "            self.hashmap[hashkey] = [None] * self.itemsPerBuckect\n",
    "        self.hashmap[hashkey][self.pos(key)] = value\n",
    "\n",
    "    def get(self, key):\n",
    "        hashkey = self.hash(key)\n",
    "        if (not self.hashmap[hashkey]) or self.hashmap[hashkey][self.pos(key)] == None:\n",
    "            return -1\n",
    "        else:\n",
    "            return self.hashmap[hashkey][self.pos(key)]\n",
    "\n",
    "    def remove(self, key):\n",
    "        hashkey = self.hash(key)\n",
    "        if self.hashmap[hashkey]:\n",
    "            self.hashmap[hashkey][self.pos(key)] = None\n",
    "\n",
    "\n",
    "obj = MyHashMap()\n",
    "obj.put(1, 1)\n",
    "a = obj.get(1)\n",
    "print(param_2)\n",
    "# 208ms 51.10%"
   ]
  },
  {
   "cell_type": "heading",
   "metadata": {},
   "level": 1,
   "source": [
    "739.每日温度"
   ]
  },
  {
   "cell_type": "markdown",
   "metadata": {},
   "source": [
    "根据每日 气温 列表，请重新生成一个列表，对应位置的输入是你需要再等待多久温度才会升高的天数。如果之后都不会升高，请输入 0 来代替。\n",
    "\n",
    "例如，给定一个列表 temperatures = [73, 74, 75, 71, 69, 72, 76, 73]，你的输出应该是 [1, 1, 4, 2, 1, 1, 0, 0]。\n",
    "\n",
    "提示：气温 列表长度的范围是 [1, 30000]。每个气温的值的都是 [30, 100] 范围内的整数。"
   ]
  },
  {
   "cell_type": "code",
   "execution_count": null,
   "metadata": {},
   "outputs": [],
   "source": [
    "T = [73, 74, 75, 71, 69, 72, 76, 73]\n"
   ]
  },
  {
   "cell_type": "heading",
   "metadata": {},
   "level": 1,
   "source": [
    "451.根据字符出现频率排序"
   ]
  },
  {
   "cell_type": "markdown",
   "metadata": {},
   "source": [
    "给定一个字符串，请将字符串里的字符按照出现的频率降序排列。\n",
    "\n",
    "示例 1:\n",
    "\n",
    "输入:\n",
    "\"tree\"\n",
    "\n",
    "输出:\n",
    "\"eert\"\n",
    "\n",
    "解释:\n",
    "'e'出现两次，'r'和't'都只出现一次。\n",
    "因此'e'必须出现在'r'和't'之前。此外，\"eetr\"也是一个有效的答案。\n",
    "示例 2:\n",
    "\n",
    "输入:\n",
    "\"cccaaa\"\n",
    "\n",
    "输出:\n",
    "\"cccaaa\"\n",
    "\n",
    "解释:\n",
    "'c'和'a'都出现三次。此外，\"aaaccc\"也是有效的答案。\n",
    "注意\"cacaca\"是不正确的，因为相同的字母必须放在一起。\n",
    "示例 3:\n",
    "\n",
    "输入:\n",
    "\"Aabb\"\n",
    "\n",
    "输出:\n",
    "\"bbAa\"\n",
    "\n",
    "解释:\n",
    "此外，\"bbaA\"也是一个有效的答案，但\"Aabb\"是不正确的。\n",
    "注意'A'和'a'被认为是两种不同的字符。"
   ]
  },
  {
   "cell_type": "code",
   "execution_count": 6,
   "metadata": {
    "collapsed": false
   },
   "outputs": [
    {
     "name": "stdout",
     "output_type": "stream",
     "text": [
      "eetr\n"
     ]
    }
   ],
   "source": [
    "s = 'tree'\n",
    "dic = {}\n",
    "temp = ''\n",
    "n = len(s)\n",
    "for i in range(0, n):\n",
    "    if s[i] in dic:\n",
    "        dic[s[i]] += 1\n",
    "    else:\n",
    "        dic[s[i]] = 1\n",
    "sorted_dic = sorted(dic.items(), key=lambda x: x[1], reverse=True)\n",
    "for x in sorted_dic:\n",
    "    temp += x[0] * x[1]\n",
    "print(temp)   \n",
    "# 76ms 50.81%"
   ]
  },
  {
   "cell_type": "code",
   "execution_count": 13,
   "metadata": {},
   "outputs": [
    {
     "name": "stdout",
     "output_type": "stream",
     "text": [
      "[]\n"
     ]
    }
   ],
   "source": [
    ""
   ]
  },
  {
   "cell_type": "code",
   "execution_count": 12,
   "metadata": {},
   "outputs": [],
   "source": []
  },
  {
   "cell_type": "code",
   "execution_count": null,
   "metadata": {},
   "outputs": [],
   "source": []
  },
  {
   "cell_type": "code",
   "execution_count": null,
   "metadata": {},
   "outputs": [],
   "source": []
  },
  {
   "cell_type": "code",
   "execution_count": null,
   "metadata": {},
   "outputs": [],
   "source": []
  },
  {
   "cell_type": "code",
   "execution_count": null,
   "metadata": {},
   "outputs": [],
   "source": []
  },
  {
   "cell_type": "code",
   "execution_count": null,
   "metadata": {},
   "outputs": [],
   "source": []
  },
  {
   "cell_type": "code",
   "execution_count": null,
   "metadata": {},
   "outputs": [],
   "source": []
  }
 ],
 "metadata": {},
 "nbformat": 4,
 "nbformat_minor": 0
}
