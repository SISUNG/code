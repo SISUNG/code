{
 "cells": [
  {
   "cell_type": "code",
   "execution_count": null,
   "metadata": {},
   "outputs": [],
   "source": []
  },
  {
   "cell_type": "code",
   "execution_count": null,
   "metadata": {},
   "outputs": [],
   "source": []
  },
  {
   "cell_type": "code",
   "execution_count": null,
   "metadata": {},
   "outputs": [],
   "source": []
  },
  {
   "cell_type": "code",
   "execution_count": null,
   "metadata": {},
   "outputs": [],
   "source": []
  },
  {
   "cell_type": "heading",
   "metadata": {},
   "level": 1,
   "source": [
    "500.键盘行"
   ]
  },
  {
   "cell_type": "code",
   "execution_count": null,
   "metadata": {},
   "outputs": [],
   "source": [
    "class Solution(object):\n",
    "    def findWords(self, words):\n",
    "        \"\"\"\n",
    "        :type words: List[str]\n",
    "        :rtype: List[str]\n",
    "        \"\"\"\n",
    "        ans = []\n",
    "        keys = ['qwertyuiop', 'asdfghjkl', 'zxcvbnm']\n",
    "        for key in keys:\n",
    "            for word in words:\n",
    "                line = set(word.lower())\n",
    "                if line.issubset(set(key)):\n",
    "                    ans.append(word)\n",
    "        return ans\n"
   ]
  },
  {
   "cell_type": "heading",
   "metadata": {},
   "level": 1,
   "source": [
    "389.找不同"
   ]
  },
  {
   "cell_type": "code",
   "execution_count": 2,
   "metadata": {
    "collapsed": false
   },
   "outputs": [
    {
     "name": "stdout",
     "output_type": "stream",
     "text": [
      "e\n"
     ]
    }
   ],
   "source": [
    "s, t = \"abcd\", \"abcde\"\n",
    "d = {}\n",
    "for i in s:\n",
    "    if i not in d.keys():\n",
    "        d[i] = 1\n",
    "    else:\n",
    "        d[i] = d.get(i) + 1\n",
    "for j in t:\n",
    "    if d.get(j) != t.count(j):\n",
    "        print(j)"
   ]
  },
  {
   "cell_type": "heading",
   "metadata": {},
   "level": 1,
   "source": [
    "463.岛屿的周长"
   ]
  },
  {
   "cell_type": "code",
   "execution_count": null,
   "metadata": {},
   "outputs": [],
   "source": [
    "class Solution(object):\n",
    "    def islandPerimeter(self, grid):\n",
    "        \"\"\"\n",
    "        :type grid: List[List[int]]\n",
    "        :rtype: int\n",
    "        \"\"\"\n",
    "        recount = 0\n",
    "        sums = 0\n",
    "        n = len(grid)\n",
    "        m = len(grid[0])\n",
    "        for i in range(len(grid)):\n",
    "            for j in range(len(grid[i])):\n",
    "                if grid[i][j] == 1:\n",
    "                    sums = sums + 1\n",
    "                    if i - 1 >= 0:\n",
    "                        if grid[i - 1][j] == 1: recount += 1\n",
    "                    if j - 1 >= 0:\n",
    "                        if grid[i][j - 1] == 1: recount += 1\n",
    "                    if i + 1 < n:\n",
    "                        if grid[i + 1][j] == 1: recount += 1\n",
    "                    if j + 1 < m:\n",
    "                        if grid[i][1 + j] == 1: recount += 1\n",
    "        print(sums, recount)"
   ]
  },
  {
   "cell_type": "heading",
   "metadata": {},
   "level": 1,
   "source": [
    "575.分糖果"
   ]
  },
  {
   "cell_type": "code",
   "execution_count": 6,
   "metadata": {
    "collapsed": false
   },
   "outputs": [
    {
     "name": "stdout",
     "output_type": "stream",
     "text": [
      "1\n"
     ]
    }
   ],
   "source": [
    "candies = [1, 1, 1, 1]\n",
    "s = set(candies)\n",
    "m = len(candies)\n",
    "n = len(s)\n",
    "if n >= m/2:\n",
    "    print(int(m/2))\n",
    "else:\n",
    "    print(int(n))\n",
    "# 120ms 43.56%"
   ]
  },
  {
   "cell_type": "code",
   "execution_count": null,
   "metadata": {},
   "outputs": [],
   "source": []
  }
 ],
 "metadata": {},
 "nbformat": 4,
 "nbformat_minor": 0
}
