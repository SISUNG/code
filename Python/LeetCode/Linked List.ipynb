{
 "cells": [
  {
   "cell_type": "heading",
   "metadata": {},
   "level": 1,
   "source": [
    "876.链表的中间结点"
   ]
  },
  {
   "cell_type": "code",
   "execution_count": 2,
   "metadata": {},
   "outputs": [
    {
     "name": "stdout",
     "output_type": "stream",
     "text": [
      "b\n"
     ]
    }
   ],
   "source": [
    "print('b')"
   ]
  },
  {
   "cell_type": "heading",
   "metadata": {},
   "level": 1,
   "source": [
    "234.回文链表"
   ]
  },
  {
   "cell_type": "code",
   "execution_count": null,
   "metadata": {},
   "outputs": [],
   "source": [
    "# Definition for singly-linked list.\n",
    "# class ListNode(object):\n",
    "#     def __init__(self, x):\n",
    "#         self.val = x\n",
    "#         self.next = None\n",
    "\n",
    "class Solution(object):\n",
    "    def isPalindrome(self, head):\n",
    "        \"\"\"\n",
    "        :type head: ListNode\n",
    "        :rtype: bool\n",
    "        \"\"\"\n",
    "        if not head or not head.next:\n",
    "            return True\n",
    "\n",
    "        # 快慢指针法找链表的中点\n",
    "        slow = fast = head\n",
    "        while fast.next and fast.next.next:\n",
    "            slow = slow.next\n",
    "            fast = fast.next.next\n",
    "\n",
    "        slow = slow.next  # slow指向链表的后半段\n",
    "        slow = self.reverseList(slow)\n",
    "\n",
    "        while slow:\n",
    "            if head.val != slow.val:\n",
    "                return False\n",
    "            slow = slow.next\n",
    "            head = head.next\n",
    "        return True\n",
    "\n",
    "    def reverseList(self, head):\n",
    "        new_head = None\n",
    "        while head:\n",
    "            p = head\n",
    "            head = head.next\n",
    "            p.next = new_head\n",
    "            new_head = p\n",
    "        return new_head\n"
   ]
  },
  {
   "cell_type": "code",
   "execution_count": null,
   "metadata": {
    "collapsed": false
   },
   "outputs": [
    {
     "name": "stdout",
     "output_type": "stream",
     "text": [
      "3\n"
     ]
    }
   ],
   "source": [
    "hand = [1, 2, 3, 6, 2, 3, 4, 7, 8]\n",
    "W = 3\n",
    "print(W)"
   ]
  },
  {
   "cell_type": "code",
   "execution_count": 6,
   "metadata": {
    "collapsed": true
   },
   "outputs": [
    {
     "name": "stdout",
     "output_type": "stream",
     "text": [
      "True\n"
     ]
    }
   ],
   "source": [
    "n = 19\n",
    "\n",
    "# l = []\n",
    "# for i in str(n):\n",
    "#     print(i)\n",
    "#     l.append(int(i))\n",
    "# print(l)\n",
    "\n",
    "\n",
    "d = {}\n",
    "while True:\n",
    "    l = list(map(int,list(str(n))))\n",
    "    m = 0\n",
    "    for i in l:\n",
    "        m += i**2\n",
    "    if m in d:\n",
    "        print(d)\n",
    "        return False\n",
    "    if m == 1:\n",
    "        print(d)\n",
    "        return True\n",
    "    d[m] = m\n",
    "    n = m\n"
   ]
  },
  {
   "cell_type": "code",
   "execution_count": 4,
   "metadata": {},
   "outputs": [],
   "source": []
  },
  {
   "cell_type": "code",
   "execution_count": null,
   "metadata": {},
   "outputs": [],
   "source": []
  }
 ],
 "metadata": {},
 "nbformat": 4,
 "nbformat_minor": 0
}
