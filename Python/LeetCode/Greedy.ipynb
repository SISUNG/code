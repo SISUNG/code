{
 "cells": [
  {
   "cell_type": "code",
   "execution_count": 2,
   "metadata": {
    "collapsed": false
   },
   "outputs": [
    {
     "name": "stdout",
     "output_type": "stream",
     "text": [
      "hello world\n"
     ]
    }
   ],
   "source": [
    "944.删列造序"
   ]
  },
  {
   "cell_type": "heading",
   "metadata": {},
   "level": 1,
   "source": [
    "455.分发饼干 用时72ms，击败29.96%"
   ]
  },
  {
   "cell_type": "code",
   "execution_count": 5,
   "metadata": {
    "collapsed": false
   },
   "outputs": [
    {
     "name": "stdout",
     "output_type": "stream",
     "text": [
      "2\n"
     ]
    }
   ],
   "source": [
    "g = [1, 2, 3, 4]\n",
    "s = [1, 1, 2]\n",
    "g.sort()\n",
    "s.sort()\n",
    "len1 = len(g)\n",
    "len2 = len(s)\n",
    "i = 0\n",
    "j = 0\n",
    "cnt = 0\n",
    "while i < len1 and j < len2:\n",
    "    if g[i] <= s[j]:\n",
    "        cnt += 1\n",
    "        i += 1\n",
    "    j += 1\n",
    "print(cnt)"
   ]
  },
  {
   "cell_type": "heading",
   "metadata": {},
   "level": 1,
   "source": [
    "860.柠檬水找零 用时36ms，击败93.04%"
   ]
  },
  {
   "cell_type": "code",
   "execution_count": 16,
   "metadata": {
    "collapsed": false
   },
   "outputs": [
    {
     "name": "stdout",
     "output_type": "stream",
     "text": [
      "False\nTrue\n"
     ]
    }
   ],
   "source": [
    "bills = [5, 5, 10, 10, 20]\n",
    "if not bills:\n",
    "    print('True')\n",
    "cnt = [0, 0]\n",
    "for i in bills:\n",
    "    if i == 5:\n",
    "        cnt[0] += 1\n",
    "    elif i == 10:\n",
    "        if cnt[0] > 0:\n",
    "            cnt[0] -= 1\n",
    "            cnt[1] += 1\n",
    "        else:\n",
    "            print(\"False\")\n",
    "    elif i == 20:\n",
    "        if cnt[1] > 0 and cnt[0] > 0:\n",
    "            cnt[1] -= 1\n",
    "            cnt[0] -= 1\n",
    "        elif cnt[0] >= 3:\n",
    "            cnt[0] -= 3\n",
    "        else:\n",
    "            print(\"False\")\n",
    "print(\"True\")"
   ]
  },
  {
   "cell_type": "heading",
   "metadata": {},
   "level": 1,
   "source": [
    "874.模拟行走机器人"
   ]
  },
  {
   "cell_type": "code",
   "execution_count": null,
   "metadata": {},
   "outputs": [],
   "source": []
  },
  {
   "cell_type": "code",
   "execution_count": null,
   "metadata": {},
   "outputs": [],
   "source": []
  },
  {
   "cell_type": "heading",
   "metadata": {},
   "level": 1,
   "source": [
    "122.买卖股票的最佳时机II"
   ]
  },
  {
   "cell_type": "code",
   "execution_count": null,
   "metadata": {},
   "outputs": [],
   "source": []
  },
  {
   "cell_type": "markdown",
   "metadata": {},
   "source": [
    "984.不含AAA或BBB的字符串"
   ]
  },
  {
   "cell_type": "code",
   "execution_count": 1,
   "metadata": {
    "collapsed": false
   },
   "outputs": [
    {
     "name": "stdout",
     "output_type": "stream",
     "text": [
      "bab\n"
     ]
    }
   ],
   "source": [
    "A = 1\n",
    "B = 2\n",
    "ans = []\n",
    "while A or B:\n",
    "    if len(ans) >= 2 and ans[-1] == ans[-2]:\n",
    "        writeA = ans[-1] == 'b'\n",
    "    else:\n",
    "        writeA = A >= B\n",
    "\n",
    "    if writeA:\n",
    "        A -= 1\n",
    "        ans.append('a')\n",
    "    else:\n",
    "        B -= 1\n",
    "        ans.append('b')\n",
    "print(''.join(ans))\n",
    "# 56ms 20.79%"
   ]
  },
  {
   "cell_type": "code",
   "execution_count": null,
   "metadata": {},
   "outputs": [],
   "source": []
  }
 ],
 "metadata": {
  "kernelspec": {
   "display_name": "Python 2",
   "language": "python",
   "name": "python2"
  },
  "language_info": {
   "codemirror_mode": {
    "name": "ipython",
    "version": 2
   },
   "file_extension": ".py",
   "mimetype": "text/x-python",
   "name": "python",
   "nbconvert_exporter": "python",
   "pygments_lexer": "ipython2",
   "version": "2.7.6"
  }
 },
 "nbformat": 4,
 "nbformat_minor": 0
}
