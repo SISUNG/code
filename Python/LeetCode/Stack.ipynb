{
 "cells": [
  {
   "cell_type": "heading",
   "metadata": {},
   "level": 1,
   "source": [
    "682.棒球比赛 48ms 8,63%"
   ]
  },
  {
   "cell_type": "code",
   "execution_count": 63,
   "metadata": {
    "collapsed": false
   },
   "outputs": [
    {
     "name": "stdout",
     "output_type": "stream",
     "text": [
      "27\n"
     ]
    }
   ],
   "source": [
    "ops = [\"5\", \"-2\", \"4\", \"C\", \"D\", \"9\", \"+\", \"+\"]\n",
    "res = []\n",
    "for i in ops:\n",
    "    if i.lstrip('-').isdigit():\n",
    "        res.append(int(i))\n",
    "    if i == 'C':\n",
    "        lens = len(res)\n",
    "        res.pop()\n",
    "    if i == 'D':\n",
    "        lens = len(res)\n",
    "        res.append(int(res[lens - 1]) * 2)\n",
    "    if i == '+':\n",
    "        idx1 = len(res) - 2\n",
    "        idx2 = len(res) - 1\n",
    "        res.append(int(res[idx1]) + int(res[idx2]))\n",
    "\n",
    "print(sum(res))"
   ]
  },
  {
   "cell_type": "heading",
   "metadata": {
    "collapsed": false
   },
   "level": 1,
   "source": [
    "496.下一个更大元素I 60ms 62.47%"
   ]
  },
  {
   "cell_type": "code",
   "execution_count": 96,
   "metadata": {
    "collapsed": true
   },
   "outputs": [
    {
     "name": "stdout",
     "output_type": "stream",
     "text": [
      "[3, -1]\n"
     ]
    }
   ],
   "source": [
    "findNums = [2, 4]\n",
    "nums = [1, 2, 3, 4]\n",
    "res = []\n",
    "flags = False\n",
    "for i in findNums:\n",
    "    l = nums.index(i)\n",
    "    for j in nums[l:]:\n",
    "        if j > i:\n",
    "            res.append(j)\n",
    "            flags = True\n",
    "            break\n",
    "        else:\n",
    "            flags = False\n",
    "            \n",
    "    if flags == False:\n",
    "        res.append(-1)\n",
    "    \n",
    "    flags = False      \n",
    "            \n",
    "print(res)"
   ]
  },
  {
   "cell_type": "heading",
   "metadata": {},
   "level": 1,
   "source": [
    "232.用栈实现队列"
   ]
  },
  {
   "cell_type": "code",
   "execution_count": null,
   "metadata": {},
   "outputs": [],
   "source": []
  },
  {
   "cell_type": "markdown",
   "metadata": {},
   "source": [
    "225.用队列实现栈"
   ]
  },
  {
   "cell_type": "code",
   "execution_count": null,
   "metadata": {},
   "outputs": [],
   "source": []
  },
  {
   "cell_type": "markdown",
   "metadata": {},
   "source": [
    "155.最小栈"
   ]
  },
  {
   "cell_type": "code",
   "execution_count": null,
   "metadata": {},
   "outputs": [],
   "source": []
  },
  {
   "cell_type": "heading",
   "metadata": {},
   "level": 1,
   "source": [
    "503.下一个更大元素II 7548ms"
   ]
  },
  {
   "cell_type": "code",
   "execution_count": 105,
   "metadata": {
    "collapsed": false
   },
   "outputs": [
    {
     "name": "stdout",
     "output_type": "stream",
     "text": [
      "[2, 1, 1]\n[1, 1, 2]\n[1, 2, 1]\n[2, -1, 2]\n"
     ]
    }
   ],
   "source": [
    "nums = [1, 2, 1]\n",
    "res = []\n",
    "flags = False\n",
    "for i in range(len(nums)):\n",
    "    nums1 = nums[i+1:]\n",
    "    nums2 = nums[:i+1]\n",
    "    nums3 = nums1 + nums2\n",
    "    print(nums3)\n",
    "    for j in nums3:\n",
    "        if j > nums[i]:\n",
    "            res.append(j)\n",
    "            flags = True\n",
    "            break\n",
    "        else:\n",
    "            flags = False\n",
    "            \n",
    "    if flags == False:\n",
    "        res.append(-1)\n",
    "\n",
    "    flags = False  \n",
    "print(res)"
   ]
  },
  {
   "cell_type": "heading",
   "metadata": {},
   "level": 1,
   "source": [
    "456.132模式"
   ]
  },
  {
   "cell_type": "code",
   "execution_count": 123,
   "metadata": {
    "collapsed": false
   },
   "outputs": [
    {
     "name": "stdout",
     "output_type": "stream",
     "text": [
      "True\n-1-3-2\nTrue\n-1-3-0\nTrue\n-1-2-0\n"
     ]
    }
   ],
   "source": [
    "nums = [-1, 3, 2, 0]\n",
    "l = len(nums)\n",
    "for i in range(l - 2):\n",
    "    for j in range(i + 1, l - 1):\n",
    "        for k in range(j + 1, l):\n",
    "            if nums[j] > nums[k] and nums[k] > nums[i]:\n",
    "                print(\"True\")\n",
    "                print('{}-{}-{}'.format(nums[i],\n",
    "                                        nums[j],\n",
    "                                        nums[k]))\n",
    "#自己的这个方法可以运行，但是严重超时"
   ]
  },
  {
   "cell_type": "code",
   "execution_count": 115,
   "metadata": {},
   "outputs": [],
   "source": [
    "nums = [-1, 3, 2, 0]\n",
    "l = len(nums)\n",
    "if n < 3:\n",
    "    print('False')\n"
   ]
  },
  {
   "cell_type": "heading",
   "metadata": {},
   "level": 1,
   "source": [
    "20.有效的括号 24ms 99.85%"
   ]
  },
  {
   "cell_type": "code",
   "execution_count": 141,
   "metadata": {
    "collapsed": false
   },
   "outputs": [
    {
     "name": "stdout",
     "output_type": "stream",
     "text": [
      "True\n"
     ]
    }
   ],
   "source": [
    "s = \"([])\"\n",
    "a = {')': '(', ']': '[', '}': '{'}\n",
    "l = [None]\n",
    "for i in s:\n",
    "    if i in a and a[i] == l[-1]:\n",
    "        l.pop()\n",
    "    else:\n",
    "        l.append(i)\n",
    "print(len(l) == 1)"
   ]
  },
  {
   "cell_type": "heading",
   "metadata": {},
   "level": 1,
   "source": [
    "739.每日温度"
   ]
  },
  {
   "cell_type": "code",
   "execution_count": null,
   "metadata": {},
   "outputs": [],
   "source": []
  },
  {
   "cell_type": "code",
   "execution_count": null,
   "metadata": {},
   "outputs": [],
   "source": []
  },
  {
   "cell_type": "code",
   "execution_count": null,
   "metadata": {},
   "outputs": [],
   "source": []
  }
 ],
 "metadata": {},
 "nbformat": 4,
 "nbformat_minor": 0
}
